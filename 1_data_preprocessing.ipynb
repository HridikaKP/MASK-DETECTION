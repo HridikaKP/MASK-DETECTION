{
 "cells": [
  {
   "cell_type": "code",
   "execution_count": 4,
   "id": "79ceae92-20d2-4afe-b20b-07d5e137a1ce",
   "metadata": {},
   "outputs": [],
   "source": [
    "import os\n",
    "import cv2\n",
    "import numpy as np\n",
    "from tensorflow.keras.utils import to_categorical\n",
    "from sklearn.model_selection import train_test_split\n"
   ]
  },
  {
   "cell_type": "code",
   "execution_count": 5,
   "id": "71907c46-25c3-4f30-81aa-3bfbb8e8b7bd",
   "metadata": {},
   "outputs": [],
   "source": [
    "data_dir = 'data'\n",
    "categories = ['with_mask', 'without_mask']\n",
    "data = []\n",
    "labels = []\n",
    "\n",
    "IMG_SIZE = 100"
   ]
  },
  {
   "cell_type": "code",
   "execution_count": 6,
   "id": "fd3c4bac-3493-43df-afa1-3e118b826429",
   "metadata": {},
   "outputs": [],
   "source": [
    "for category in categories:\n",
    "    folder_path = os.path.join(data_dir, category)\n",
    "    class_label = categories.index(category)\n",
    "    \n",
    "    for img_name in os.listdir(folder_path):\n",
    "        img_path = os.path.join(folder_path, img_name)\n",
    "        try:\n",
    "            img = cv2.imread(img_path)\n",
    "            img = cv2.resize(img, (IMG_SIZE, IMG_SIZE))\n",
    "            img = cv2.cvtColor(img, cv2.COLOR_BGR2GRAY)\n",
    "            data.append(img)\n",
    "            labels.append(class_label)\n",
    "        except:\n",
    "            continue\n"
   ]
  },
  {
   "cell_type": "code",
   "execution_count": 7,
   "id": "8b992a34-fbff-4bba-b0a6-6d7d87aa7c0a",
   "metadata": {},
   "outputs": [],
   "source": [
    "X = np.array(data).reshape(-1, IMG_SIZE, IMG_SIZE, 1) / 255.0\n",
    "y = to_categorical(labels)"
   ]
  },
  {
   "cell_type": "code",
   "execution_count": 8,
   "id": "5a5ac05c-f204-4a08-b49d-b6ff1faebbb4",
   "metadata": {},
   "outputs": [],
   "source": [
    "X_train, X_test, y_train, y_test = train_test_split(X, y, test_size=0.2, random_state=42)\n"
   ]
  },
  {
   "cell_type": "code",
   "execution_count": 9,
   "id": "9a291287-6519-4a5d-b153-efac20b146a1",
   "metadata": {},
   "outputs": [],
   "source": [
    "\n",
    "np.save('X_train.npy', X_train)\n",
    "np.save('X_test.npy', X_test)\n",
    "np.save('y_train.npy', y_train)\n",
    "np.save('y_test.npy', y_test)\n"
   ]
  },
  {
   "cell_type": "code",
   "execution_count": null,
   "id": "e210855a-30aa-4447-bc7d-12c9895998a3",
   "metadata": {},
   "outputs": [],
   "source": []
  }
 ],
 "metadata": {
  "kernelspec": {
   "display_name": "Python 3 (ipykernel)",
   "language": "python",
   "name": "python3"
  },
  "language_info": {
   "codemirror_mode": {
    "name": "ipython",
    "version": 3
   },
   "file_extension": ".py",
   "mimetype": "text/x-python",
   "name": "python",
   "nbconvert_exporter": "python",
   "pygments_lexer": "ipython3",
   "version": "3.12.7"
  }
 },
 "nbformat": 4,
 "nbformat_minor": 5
}
